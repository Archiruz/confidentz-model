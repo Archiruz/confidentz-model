{
  "cells": [
    {
      "cell_type": "markdown",
      "metadata": {
        "id": "LU6sWQiTFwqj"
      },
      "source": [
        "# Training and Validation Script"
      ]
    },
    {
      "cell_type": "markdown",
      "metadata": {
        "id": "a2R61SiqFwqm"
      },
      "source": [
        "## Import Library"
      ]
    },
    {
      "cell_type": "code",
      "execution_count": 1,
      "metadata": {
        "id": "NdzrB4_TFwqm"
      },
      "outputs": [],
      "source": [
        "import os\n",
        "import re\n",
        "import zipfile\n",
        "import numpy as np\n",
        "import tensorflow as tf\n",
        "import tensorflow_hub as hub\n",
        "import matplotlib.pyplot as plt\n",
        "import gdown\n",
        "import zipfile\n",
        "\n",
        "from tensorflow.keras.applications.inception_v3 import InceptionV3\n",
        "\n",
        "from tensorflow.keras import layers\n",
        "from tensorflow.keras import optimizers\n",
        "from tensorflow.keras.utils import load_img, img_to_array\n",
        "from tensorflow.keras.preprocessing.image import ImageDataGenerator"
      ]
    },
    {
      "cell_type": "markdown",
      "metadata": {
        "id": "D7jIFotwFwqn"
      },
      "source": [
        "## Import Dataset (Need to be automated and consistent)"
      ]
    },
    {
      "cell_type": "code",
      "source": [
        "url = \"https://drive.google.com/file/d/1tYM-45FgvabZgCORbWcsmAHDQ4s10Eoi/view?usp=drive_link\"\n",
        "output = \"dataset.zip\"\n",
        "gdown.download(url, output, quiet=False, fuzzy=True)"
      ],
      "metadata": {
        "colab": {
          "base_uri": "https://localhost:8080/",
          "height": 105
        },
        "id": "xWCNgW5jGzBq",
        "outputId": "aadffe16-7a7c-47d5-ac0f-bd5e21127d9d"
      },
      "execution_count": 2,
      "outputs": [
        {
          "output_type": "stream",
          "name": "stderr",
          "text": [
            "Downloading...\n",
            "From: https://drive.google.com/uc?id=1tYM-45FgvabZgCORbWcsmAHDQ4s10Eoi\n",
            "To: /content/dataset.zip\n",
            "100%|██████████| 9.15M/9.15M [00:00<00:00, 114MB/s]\n"
          ]
        },
        {
          "output_type": "execute_result",
          "data": {
            "text/plain": [
              "'dataset.zip'"
            ],
            "application/vnd.google.colaboratory.intrinsic+json": {
              "type": "string"
            }
          },
          "metadata": {},
          "execution_count": 2
        }
      ]
    },
    {
      "cell_type": "code",
      "execution_count": 3,
      "metadata": {
        "id": "cBspB4saFwqo"
      },
      "outputs": [],
      "source": [
        "# download zip file dataset from https://drive.google.com/drive/folders/1nwR-wo-_9mQtqkVJd3Grhlw6YGPX4EKP?usp=share_link\n",
        "filenames = os.listdir()\n",
        "\n",
        "for file in filenames:\n",
        "  dataset = re.search(r'^dataset.*\\.zip$', file)\n",
        "\n",
        "  if dataset:\n",
        "    zip_path = f'./{file}'\n",
        "    zip_ref = zipfile.ZipFile(zip_path, 'r')\n",
        "    zip_ref.extractall(path='./')\n",
        "    zip_ref.close()"
      ]
    },
    {
      "cell_type": "markdown",
      "metadata": {
        "id": "N9qsua8jFwqo"
      },
      "source": [
        "## ETL (Extract Transform Load)"
      ]
    },
    {
      "cell_type": "code",
      "execution_count": 4,
      "metadata": {
        "id": "b5PrUCfQFwqo"
      },
      "outputs": [],
      "source": [
        "# Extract (Specifying path)\n",
        "base_dir = './dataset/'\n",
        "\n",
        "train_dir = os.path.join(base_dir, 'train')\n",
        "test_dir = os.path.join(base_dir, 'test')"
      ]
    },
    {
      "cell_type": "code",
      "execution_count": 5,
      "metadata": {
        "colab": {
          "base_uri": "https://localhost:8080/"
        },
        "id": "4m9IrDeSFwqp",
        "outputId": "f35a3980-d97a-4ff3-b19b-e544fb694c38"
      },
      "outputs": [
        {
          "output_type": "stream",
          "name": "stdout",
          "text": [
            "Found 500 files belonging to 2 classes.\n",
            "Using 400 files for training.\n",
            "Found 500 files belonging to 2 classes.\n",
            "Using 100 files for validation.\n",
            "Found 32 files belonging to 2 classes.\n"
          ]
        }
      ],
      "source": [
        "# Extract (Generating dataset from directory)\n",
        "BATCH_SIZE = 32\n",
        "IMAGE_SIZE = (255, 255)\n",
        "VAL_SPLIT = 0.2\n",
        "\n",
        "train_ds = tf.keras.utils.image_dataset_from_directory(\n",
        "    train_dir,\n",
        "    # labels='inferred',\n",
        "    # label_mode='binary',\n",
        "    # class_names=None,\n",
        "    # batch_size=BATCH_SIZE,\n",
        "    # image_size=IMAGE_SIZE,\n",
        "    validation_split=VAL_SPLIT,\n",
        "    subset='training',\n",
        "    # shuffle=True,\n",
        "    seed=123\n",
        ")\n",
        "\n",
        "val_ds = tf.keras.utils.image_dataset_from_directory(\n",
        "    train_dir,\n",
        "    # labels='inferred',\n",
        "    # label_mode='binary',\n",
        "    # class_names=None,\n",
        "    # batch_size=BATCH_SIZE,\n",
        "    # image_size=IMAGE_SIZE,\n",
        "    validation_split=VAL_SPLIT,\n",
        "    subset='validation',\n",
        "    # shuffle=True,\n",
        "    seed=123\n",
        ")\n",
        "\n",
        "# test with very small dataset\n",
        "test_ds = tf.keras.utils.image_dataset_from_directory(\n",
        "    test_dir,\n",
        "    # labels='inferred',\n",
        "    # label_mode='binary',\n",
        "    # class_names=['caries', 'no-caries'],\n",
        "    # batch_size=BATCH_SIZE,\n",
        "    # image_size=IMAGE_SIZE,\n",
        "    # shuffle=True,\n",
        ")"
      ]
    },
    {
      "cell_type": "code",
      "source": [
        "# Check batches' shape\n",
        "for image_batch, labels_batch in train_ds:\n",
        "  print(image_batch.shape)\n",
        "  print(labels_batch.shape)\n",
        "  break"
      ],
      "metadata": {
        "colab": {
          "base_uri": "https://localhost:8080/"
        },
        "id": "aRxUy2EmVQT3",
        "outputId": "3a719608-f14a-49ae-a636-d234c98b8f80"
      },
      "execution_count": 6,
      "outputs": [
        {
          "output_type": "stream",
          "name": "stdout",
          "text": [
            "(32, 256, 256, 3)\n",
            "(32,)\n"
          ]
        }
      ]
    },
    {
      "cell_type": "markdown",
      "metadata": {
        "id": "R4c1RcZXFwqs"
      },
      "source": [
        "### Preprocessing Images using keras preprocessing layers"
      ]
    },
    {
      "cell_type": "code",
      "source": [
        "# Transform (Preprocessing data)\n",
        "\n",
        "# optimize data I/O\n",
        "AUTOTUNE = tf.data.AUTOTUNE\n",
        "\n",
        "IMG_SIZE = 255\n",
        "\n",
        "image = next(iter(train_ds))\n",
        "\n",
        "resize_and_rescale = tf.keras.Sequential([\n",
        "  layers.Resizing(IMG_SIZE, IMG_SIZE),\n",
        "  layers.Rescaling(1./255)\n",
        "])\n",
        "\n",
        "data_augmentation = tf.keras.Sequential([\n",
        "  layers.RandomFlip(\"horizontal\",\n",
        "                    input_shape=(IMG_SIZE,\n",
        "                                 IMG_SIZE,\n",
        "                                 3)),\n",
        "  layers.RandomRotation(0.1),\n",
        "])\n",
        "\n",
        "def prepare(ds, shuffle=False, augment=False):\n",
        "  # Resize and rescale all datasets.\n",
        "  ds = ds.map(lambda x, y: (resize_and_rescale(x), y), \n",
        "              num_parallel_calls=AUTOTUNE)\n",
        "\n",
        "  if shuffle:\n",
        "    ds = ds.shuffle(1000)\n",
        "\n",
        "  # Use data augmentation only on the training set.\n",
        "  if augment:\n",
        "    ds = ds.map(lambda x, y: (data_augmentation(x), y), \n",
        "                num_parallel_calls=AUTOTUNE)\n",
        "\n",
        "  # Use buffered prefetching on all datasets.\n",
        "  return ds.prefetch(buffer_size=AUTOTUNE)\n",
        "\n",
        "\n",
        "train_ds = train_ds.cache().prefetch(buffer_size=AUTOTUNE)\n",
        "val_ds = val_ds.cache().prefetch(buffer_size=AUTOTUNE)"
      ],
      "metadata": {
        "id": "p5TBZZ0gQtmT"
      },
      "execution_count": 7,
      "outputs": []
    },
    {
      "cell_type": "code",
      "source": [
        "# Load (Apply preprocessing and load data)\n",
        "\n",
        "train_ds = prepare(train_ds, shuffle=True, augment=True)\n",
        "val_ds = prepare(val_ds)\n",
        "test_ds = prepare(test_ds)"
      ],
      "metadata": {
        "id": "Agu1JD9VUqzW"
      },
      "execution_count": 8,
      "outputs": []
    },
    {
      "cell_type": "code",
      "execution_count": 9,
      "metadata": {
        "id": "COabnFwuFwqs"
      },
      "outputs": [],
      "source": [
        "# # experimental ImageDatagenerator for training (not used at the moment)\n",
        "# train_datagen = ImageDataGenerator(\n",
        "#         rescale=1./255,\n",
        "#         # rotation_range=40,\n",
        "#         # width_shift_range=0.2,\n",
        "#         # height_shift_range=0.2,\n",
        "#         # shear_range=0.2,\n",
        "#         # zoom_range=0.2,\n",
        "#         # horizontal_flip=True,\n",
        "#         # fill_mode='nearest'\n",
        "# )\n",
        "# test_datagen = ImageDataGenerator(rescale=1./255)\n",
        "\n",
        "# train_generator = train_datagen.flow_from_directory(\n",
        "#         train_dir,\n",
        "#         target_size=(150, 150),\n",
        "#         batch_size=20,\n",
        "#         class_mode='binary')\n",
        "\n",
        "# test_generator = test_datagen.flow_from_directory(\n",
        "#         test_dir,\n",
        "#         target_size=(150, 150),\n",
        "#         batch_size=20,\n",
        "#         class_mode='binary')"
      ]
    },
    {
      "cell_type": "markdown",
      "metadata": {
        "id": "SB3Ejp5hFwqq"
      },
      "source": [
        "### Building Model using Transfer Learning"
      ]
    },
    {
      "cell_type": "code",
      "execution_count": 10,
      "metadata": {
        "id": "zfSXNry3Fwqq"
      },
      "outputs": [],
      "source": [
        "# transfer learning not final (maybe can use less layer?)\n",
        "# model_selection = (\"mobilenet_v2\", 224, 1280) \n",
        "# handle_base, pixels, FV_SIZE = model_selection\n",
        "# IMAGE_SIZE = (pixels, pixels)\n",
        "\n",
        "# MODULE_HANDLE =\"https://tfhub.dev/google/tf2-preview/{}/feature_vector/4\".format(handle_base)\n",
        "# feature_extractor = hub.KerasLayer(MODULE_HANDLE, input_shape=IMAGE_SIZE + (3,))\n",
        "# feature_extractor.trainable = False\n",
        "\n"
      ]
    },
    {
      "cell_type": "code",
      "execution_count": 11,
      "metadata": {
        "colab": {
          "base_uri": "https://localhost:8080/"
        },
        "id": "z59WQIUSFwqr",
        "outputId": "d0395afa-a062-4cff-f3dd-3b0d24b128c7"
      },
      "outputs": [
        {
          "output_type": "stream",
          "name": "stdout",
          "text": [
            "Downloading data from https://storage.googleapis.com/tensorflow/keras-applications/inception_v3/inception_v3_weights_tf_dim_ordering_tf_kernels_notop.h5\n",
            "87910968/87910968 [==============================] - 1s 0us/step\n"
          ]
        }
      ],
      "source": [
        "# Inception V3 model\n",
        "pre_trained_model = InceptionV3(input_shape = (255, 255, 3), \n",
        "                                include_top = False, \n",
        "                                weights = 'imagenet')"
      ]
    },
    {
      "cell_type": "code",
      "execution_count": 12,
      "metadata": {
        "id": "wya2UF4eFwqr"
      },
      "outputs": [],
      "source": [
        "# prepare layers for transfer learning\n",
        "for layer in pre_trained_model.layers:\n",
        "    layer.trainable = False"
      ]
    },
    {
      "cell_type": "code",
      "execution_count": 13,
      "metadata": {
        "id": "qupOPB0bFwqs"
      },
      "outputs": [],
      "source": [
        "# # not final\n",
        "# model = tf.keras.Sequential([\n",
        "#   feature_extractor,\n",
        "#   tf.keras.layers.Dense(1, activation='sigmoid') # sigmoid/softmax\n",
        "# ])\n",
        "\n",
        "# model.summary()"
      ]
    },
    {
      "cell_type": "code",
      "execution_count": 14,
      "metadata": {
        "id": "aEy9a7W4Fwqs"
      },
      "outputs": [],
      "source": [
        "# Model building\n",
        "x = layers.Flatten()(pre_trained_model.output)\n",
        "x = layers.Dense(1024, activation=\"relu\")(x)\n",
        "x = layers.Dropout(0.2)(x)\n",
        "x = layers.Dense(1, activation='sigmoid')(x)\n",
        "\n",
        "model = tf.keras.Model(pre_trained_model.input, x)"
      ]
    },
    {
      "cell_type": "code",
      "execution_count": 15,
      "metadata": {
        "id": "5yT5P0ZOFwqs"
      },
      "outputs": [],
      "source": [
        "model.compile(\n",
        "  optimizer = optimizers.Adam(learning_rate=0.0001), \n",
        "  loss = 'binary_crossentropy', \n",
        "  metrics = ['accuracy']\n",
        ")"
      ]
    },
    {
      "cell_type": "markdown",
      "metadata": {
        "id": "3GtHgcicFwqt"
      },
      "source": [
        "## Model Training"
      ]
    },
    {
      "cell_type": "code",
      "execution_count": 16,
      "metadata": {
        "colab": {
          "base_uri": "https://localhost:8080/"
        },
        "id": "o0Vrp8wxFwqt",
        "outputId": "ff7b4a19-ea25-466d-dddc-46cb4a9f7d1c"
      },
      "outputs": [
        {
          "output_type": "stream",
          "name": "stdout",
          "text": [
            "Epoch 1/20\n",
            "13/13 - 117s - loss: 2.8831 - accuracy: 0.7050 - val_loss: 0.9326 - val_accuracy: 0.8700 - 117s/epoch - 9s/step\n",
            "Epoch 2/20\n",
            "13/13 - 105s - loss: 0.4469 - accuracy: 0.8825 - val_loss: 0.0729 - val_accuracy: 0.9600 - 105s/epoch - 8s/step\n",
            "Epoch 3/20\n",
            "13/13 - 103s - loss: 0.1279 - accuracy: 0.9550 - val_loss: 0.0418 - val_accuracy: 0.9800 - 103s/epoch - 8s/step\n",
            "Epoch 4/20\n",
            "13/13 - 105s - loss: 0.0603 - accuracy: 0.9800 - val_loss: 0.0224 - val_accuracy: 0.9900 - 105s/epoch - 8s/step\n",
            "Epoch 5/20\n",
            "13/13 - 107s - loss: 0.0366 - accuracy: 0.9875 - val_loss: 0.0315 - val_accuracy: 0.9800 - 107s/epoch - 8s/step\n",
            "Epoch 6/20\n",
            "13/13 - 104s - loss: 0.0493 - accuracy: 0.9825 - val_loss: 0.0219 - val_accuracy: 0.9900 - 104s/epoch - 8s/step\n",
            "Epoch 7/20\n",
            "13/13 - 107s - loss: 0.0345 - accuracy: 0.9850 - val_loss: 0.0282 - val_accuracy: 0.9800 - 107s/epoch - 8s/step\n",
            "Epoch 8/20\n",
            "13/13 - 106s - loss: 0.0150 - accuracy: 0.9950 - val_loss: 0.0169 - val_accuracy: 1.0000 - 106s/epoch - 8s/step\n",
            "Epoch 9/20\n",
            "13/13 - 106s - loss: 0.0171 - accuracy: 0.9950 - val_loss: 0.0191 - val_accuracy: 1.0000 - 106s/epoch - 8s/step\n",
            "Epoch 10/20\n",
            "13/13 - 105s - loss: 0.0129 - accuracy: 0.9975 - val_loss: 0.0188 - val_accuracy: 1.0000 - 105s/epoch - 8s/step\n",
            "Epoch 11/20\n",
            "13/13 - 105s - loss: 0.0099 - accuracy: 0.9975 - val_loss: 0.0249 - val_accuracy: 0.9900 - 105s/epoch - 8s/step\n",
            "Epoch 12/20\n",
            "13/13 - 112s - loss: 0.0259 - accuracy: 0.9950 - val_loss: 0.0278 - val_accuracy: 0.9800 - 112s/epoch - 9s/step\n",
            "Epoch 13/20\n",
            "13/13 - 104s - loss: 0.0183 - accuracy: 0.9975 - val_loss: 0.0435 - val_accuracy: 0.9800 - 104s/epoch - 8s/step\n",
            "Epoch 14/20\n",
            "13/13 - 103s - loss: 0.0158 - accuracy: 0.9950 - val_loss: 0.0250 - val_accuracy: 0.9900 - 103s/epoch - 8s/step\n",
            "Epoch 15/20\n",
            "13/13 - 106s - loss: 0.0078 - accuracy: 0.9975 - val_loss: 0.0212 - val_accuracy: 0.9800 - 106s/epoch - 8s/step\n",
            "Epoch 16/20\n",
            "13/13 - 103s - loss: 0.0112 - accuracy: 0.9975 - val_loss: 0.0144 - val_accuracy: 1.0000 - 103s/epoch - 8s/step\n",
            "Epoch 17/20\n",
            "13/13 - 112s - loss: 0.0116 - accuracy: 0.9950 - val_loss: 0.0273 - val_accuracy: 0.9800 - 112s/epoch - 9s/step\n",
            "Epoch 18/20\n",
            "13/13 - 103s - loss: 0.0062 - accuracy: 1.0000 - val_loss: 0.0192 - val_accuracy: 0.9900 - 103s/epoch - 8s/step\n",
            "Epoch 19/20\n",
            "13/13 - 104s - loss: 0.0057 - accuracy: 0.9975 - val_loss: 0.0243 - val_accuracy: 0.9900 - 104s/epoch - 8s/step\n",
            "Epoch 20/20\n",
            "13/13 - 104s - loss: 0.0062 - accuracy: 1.0000 - val_loss: 0.0205 - val_accuracy: 0.9900 - 104s/epoch - 8s/step\n"
          ]
        }
      ],
      "source": [
        "# Input runs out of data problem\n",
        "history = model.fit(\n",
        "  train_ds,\n",
        "  validation_data = val_ds,\n",
        "  # steps_per_epoch = 4,\n",
        "  epochs = 20,\n",
        "  # validation_steps = 4,\n",
        "  verbose = 2)"
      ]
    },
    {
      "cell_type": "markdown",
      "metadata": {
        "id": "BC9E9xgbFwqt"
      },
      "source": [
        "## Model Evaluation"
      ]
    },
    {
      "cell_type": "code",
      "execution_count": 17,
      "metadata": {
        "id": "Nuu-aoLYFwqt",
        "colab": {
          "base_uri": "https://localhost:8080/",
          "height": 469
        },
        "outputId": "a87276dd-f501-41dd-961f-5c14c2e7919d"
      },
      "outputs": [
        {
          "output_type": "display_data",
          "data": {
            "text/plain": [
              "<Figure size 640x480 with 1 Axes>"
            ],
            "image/png": "[encoded data removed]"
          },
          "metadata": {}
        },
        {
          "output_type": "display_data",
          "data": {
            "text/plain": [
              "<Figure size 640x480 with 0 Axes>"
            ]
          },
          "metadata": {}
        }
      ],
      "source": [
        "import matplotlib.pyplot as plt\n",
        "acc = history.history['accuracy']\n",
        "val_acc = history.history['val_accuracy']\n",
        "loss = history.history['loss']\n",
        "val_loss = history.history['val_loss']\n",
        "\n",
        "epochs = range(len(acc))\n",
        "\n",
        "plt.plot(epochs, acc, 'r', label='Training accuracy')\n",
        "plt.plot(epochs, val_acc, 'b', label='Validation accuracy')\n",
        "plt.title('Training and validation accuracy')\n",
        "plt.legend(loc=0)\n",
        "plt.figure()\n",
        "\n",
        "plt.show()"
      ]
    },
    {
      "cell_type": "code",
      "execution_count": 19,
      "metadata": {
        "id": "nPXh2AqRFwqt",
        "colab": {
          "base_uri": "https://localhost:8080/"
        },
        "outputId": "5a2accf1-5123-48c9-da0b-a2fd336d80cd"
      },
      "outputs": [
        {
          "output_type": "stream",
          "name": "stdout",
          "text": [
            "1/1 [==============================] - 1s 577ms/step\n",
            "[[0.9999362]]\n"
          ]
        }
      ],
      "source": [
        "# change filename to file you want to predict\n",
        "filename = 'caries.jpg'\n",
        "img = load_img(filename, target_size=(255, 255))\n",
        "x = img_to_array(img)\n",
        "x = np.expand_dims(x, axis=0)\n",
        "\n",
        "images = np.vstack([x])\n",
        "classes = model.predict(images, batch_size=10)\n",
        "print(classes)"
      ]
    },
    {
      "cell_type": "markdown",
      "metadata": {
        "id": "ZMpSpREAFwqu"
      },
      "source": [
        "## TODO\n",
        "* Build Flask app\n",
        "* User image input???????\n",
        "* Create better evaluation and prediction\n",
        "* Create save model function to .h5 format\n",
        "* How to deploy the model?"
      ]
    }
  ],
  "metadata": {
    "kernelspec": {
      "display_name": "Python 3.10.8 ('confidentz')",
      "language": "python",
      "name": "python3"
    },
    "language_info": {
      "codemirror_mode": {
        "name": "ipython",
        "version": 3
      },
      "file_extension": ".py",
      "mimetype": "text/x-python",
      "name": "python",
      "nbconvert_exporter": "python",
      "pygments_lexer": "ipython3",
      "version": "3.11.3"
    },
    "orig_nbformat": 4,
    "vscode": {
      "interpreter": {
        "hash": "725442b4da6b04180f8356525f093bfe3373ff1af9d9abfbace5b678dac2809c"
      }
    },
    "colab": {
      "provenance": []
    }
  },
  "nbformat": 4,
  "nbformat_minor": 0
}